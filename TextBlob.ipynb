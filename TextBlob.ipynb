{
 "cells": [
  {
   "cell_type": "code",
   "execution_count": 86,
   "metadata": {
    "collapsed": false,
    "scrolled": true
   },
   "outputs": [
    {
     "name": "stdout",
     "output_type": "stream",
     "text": [
      "(2001, 2)\n"
     ]
    },
    {
     "data": {
      "text/html": [
       "<div>\n",
       "<table border=\"1\" class=\"dataframe\">\n",
       "  <thead>\n",
       "    <tr style=\"text-align: right;\">\n",
       "      <th></th>\n",
       "      <th>0</th>\n",
       "      <th>1</th>\n",
       "    </tr>\n",
       "  </thead>\n",
       "  <tbody>\n",
       "    <tr>\n",
       "      <th>0</th>\n",
       "      <td>neg</td>\n",
       "      <td>@jamielewislewis i cant believe it, it really ...</td>\n",
       "    </tr>\n",
       "    <tr>\n",
       "      <th>1</th>\n",
       "      <td>pos</td>\n",
       "      <td>having a vodka tonic and looking forward to go...</td>\n",
       "    </tr>\n",
       "    <tr>\n",
       "      <th>2</th>\n",
       "      <td>pos</td>\n",
       "      <td>@ddlovatofans1neg1 Could you follow me please....</td>\n",
       "    </tr>\n",
       "    <tr>\n",
       "      <th>3</th>\n",
       "      <td>pos</td>\n",
       "      <td>@jordanknight for once.................. PLEAS...</td>\n",
       "    </tr>\n",
       "    <tr>\n",
       "      <th>4</th>\n",
       "      <td>neg</td>\n",
       "      <td>Had a dream about a walk in fast food resturau...</td>\n",
       "    </tr>\n",
       "  </tbody>\n",
       "</table>\n",
       "</div>"
      ],
      "text/plain": [
       "     0                                                  1\n",
       "0  neg  @jamielewislewis i cant believe it, it really ...\n",
       "1  pos  having a vodka tonic and looking forward to go...\n",
       "2  pos  @ddlovatofans1neg1 Could you follow me please....\n",
       "3  pos  @jordanknight for once.................. PLEAS...\n",
       "4  neg  Had a dream about a walk in fast food resturau..."
      ]
     },
     "execution_count": 86,
     "metadata": {},
     "output_type": "execute_result"
    }
   ],
   "source": [
    "import pandas as pd\n",
    "import numpy as np\n",
    "import sklearn as sk\n",
    "from textblob import TextBlob\n",
    "from sklearn.model_selection import KFold\n",
    "\n",
    "# Read Data from TSV URL\n",
    "url = 'https://raw.githubusercontent.com/ryanleeallred/Week_1/master/sentiment.tsv'\n",
    "url_data = pd.read_table(url, sep='\\t', header=None)\n",
    "\n",
    "# Create Pandas DataFrame\n",
    "df = pd.DataFrame(url_data)\n",
    "print(df.shape)\n",
    "df.head()"
   ]
  },
  {
   "cell_type": "code",
   "execution_count": 81,
   "metadata": {
    "collapsed": false
   },
   "outputs": [
    {
     "data": {
      "text/html": [
       "<div>\n",
       "<table border=\"1\" class=\"dataframe\">\n",
       "  <thead>\n",
       "    <tr style=\"text-align: right;\">\n",
       "      <th></th>\n",
       "      <th>0</th>\n",
       "      <th>1</th>\n",
       "      <th>2</th>\n",
       "    </tr>\n",
       "  </thead>\n",
       "  <tbody>\n",
       "    <tr>\n",
       "      <th>0</th>\n",
       "      <td>neg</td>\n",
       "      <td>@jamielewislewis i cant believe it, it really ...</td>\n",
       "      <td>neg</td>\n",
       "    </tr>\n",
       "    <tr>\n",
       "      <th>1</th>\n",
       "      <td>pos</td>\n",
       "      <td>having a vodka tonic and looking forward to go...</td>\n",
       "      <td>pos</td>\n",
       "    </tr>\n",
       "    <tr>\n",
       "      <th>2</th>\n",
       "      <td>pos</td>\n",
       "      <td>@ddlovatofans1neg1 Could you follow me please....</td>\n",
       "      <td>pos</td>\n",
       "    </tr>\n",
       "    <tr>\n",
       "      <th>3</th>\n",
       "      <td>pos</td>\n",
       "      <td>@jordanknight for once.................. PLEAS...</td>\n",
       "      <td>pos</td>\n",
       "    </tr>\n",
       "    <tr>\n",
       "      <th>4</th>\n",
       "      <td>neg</td>\n",
       "      <td>Had a dream about a walk in fast food resturau...</td>\n",
       "      <td>pos</td>\n",
       "    </tr>\n",
       "    <tr>\n",
       "      <th>5</th>\n",
       "      <td>pos</td>\n",
       "      <td>@TroyBrownBBNews Yes... For a &amp;quot;friend&amp;quot;</td>\n",
       "      <td>pos</td>\n",
       "    </tr>\n",
       "    <tr>\n",
       "      <th>6</th>\n",
       "      <td>pos</td>\n",
       "      <td>Packing for work expierance</td>\n",
       "      <td>pos</td>\n",
       "    </tr>\n",
       "    <tr>\n",
       "      <th>7</th>\n",
       "      <td>neg</td>\n",
       "      <td>hates @internet @explrer (angry)(angry) **but ...</td>\n",
       "      <td>pos</td>\n",
       "    </tr>\n",
       "    <tr>\n",
       "      <th>8</th>\n",
       "      <td>neg</td>\n",
       "      <td>@federalcase  I said I go out for eat 5:negneg...</td>\n",
       "      <td>neg</td>\n",
       "    </tr>\n",
       "    <tr>\n",
       "      <th>9</th>\n",
       "      <td>neg</td>\n",
       "      <td>@babykates7 yeah they won't do the surgery til...</td>\n",
       "      <td>neg</td>\n",
       "    </tr>\n",
       "  </tbody>\n",
       "</table>\n",
       "</div>"
      ],
      "text/plain": [
       "     0                                                  1    2\n",
       "0  neg  @jamielewislewis i cant believe it, it really ...  neg\n",
       "1  pos  having a vodka tonic and looking forward to go...  pos\n",
       "2  pos  @ddlovatofans1neg1 Could you follow me please....  pos\n",
       "3  pos  @jordanknight for once.................. PLEAS...  pos\n",
       "4  neg  Had a dream about a walk in fast food resturau...  pos\n",
       "5  pos  @TroyBrownBBNews Yes... For a &quot;friend&quot;   pos\n",
       "6  pos                       Packing for work expierance   pos\n",
       "7  neg  hates @internet @explrer (angry)(angry) **but ...  pos\n",
       "8  neg  @federalcase  I said I go out for eat 5:negneg...  neg\n",
       "9  neg  @babykates7 yeah they won't do the surgery til...  neg"
      ]
     },
     "execution_count": 81,
     "metadata": {},
     "output_type": "execute_result"
    }
   ],
   "source": [
    "# Create new df column\n",
    "df[2] = \"pos\"\n",
    "\n",
    "# Classify as neg or pos using TextBlob\n",
    "for index, row in df.iterrows():\n",
    "    #print(row[0], row[1])\n",
    "    analysis = TextBlob(row[1])\n",
    "    if analysis.sentiment.polarity < 0:\n",
    "         row[2] = \"neg\"\n",
    "df.head(10)\n",
    "    "
   ]
  },
  {
   "cell_type": "code",
   "execution_count": 82,
   "metadata": {
    "collapsed": false
   },
   "outputs": [
    {
     "name": "stdout",
     "output_type": "stream",
     "text": [
      "Percent Correct:  61.21939030484758\n"
     ]
    }
   ],
   "source": [
    "# Calculate Percent Correct            \n",
    "correct = 0\n",
    "total = 0\n",
    "\n",
    "for index, row in df.iterrows():\n",
    "    if row[0] == row[2]:\n",
    "        correct = correct+1\n",
    "    total = total+1\n",
    "    \n",
    "print(\"Percent Correct: \", (correct/total)*100)"
   ]
  },
  {
   "cell_type": "code",
   "execution_count": 83,
   "metadata": {
    "collapsed": false
   },
   "outputs": [],
   "source": [
    "# Let's try 10-fold Cross Validation\n",
    "\n",
    "# kf = KFold(10, shuffle=True)\n",
    "\n",
    "# for train, test in kf.split(X):\n",
    "    \n",
    "\n",
    "# # # of tweets, 10 folds - makes KFold object\n",
    "# X_train, X_test, y_train, y_test = train_test_split(iris.data, iris.target, test_size=0.4, random_state=0)\n",
    "# for train_indices, test_indices in kf:\n",
    "#     # Make training and testing datasets\n",
    "#     features_train = [word_data[ii] for ii in train_indices]\n",
    "#     features_test = [word_data[ii] for ii in test_indices]\n",
    "#     sentiment_train = [sentiment[ii] for ii in train_indices]\n",
    "#     sentiment_test = [sentiment[ii] for ii in test_indices]\n",
    "    \n",
    "#     print(train_indices)\n",
    "#     print(sentiment_train)\n",
    " "
   ]
  },
  {
   "cell_type": "code",
   "execution_count": null,
   "metadata": {
    "collapsed": true
   },
   "outputs": [],
   "source": []
  }
 ],
 "metadata": {
  "anaconda-cloud": {},
  "kernelspec": {
   "display_name": "Python [conda root]",
   "language": "python",
   "name": "conda-root-py"
  },
  "language_info": {
   "codemirror_mode": {
    "name": "ipython",
    "version": 3
   },
   "file_extension": ".py",
   "mimetype": "text/x-python",
   "name": "python",
   "nbconvert_exporter": "python",
   "pygments_lexer": "ipython3",
   "version": "3.5.2"
  }
 },
 "nbformat": 4,
 "nbformat_minor": 1
}
